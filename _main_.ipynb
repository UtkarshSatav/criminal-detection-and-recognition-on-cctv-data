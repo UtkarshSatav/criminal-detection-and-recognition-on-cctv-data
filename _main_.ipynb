{
 "cells": [
  {
   "cell_type": "code",
   "execution_count": 5,
   "id": "fc408ebf",
   "metadata": {},
   "outputs": [
    {
     "name": "stdout",
     "output_type": "stream",
     "text": [
      "Could not connect to the server: HTTPConnectionPool(host='localhost', port=18081): Max retries exceeded with url: /face/register (Caused by NewConnectionError('<urllib3.connection.HTTPConnection object at 0x1106b2060>: Failed to establish a new connection: [Errno 61] Connection refused'))\n",
      "Could not connect to the server: HTTPConnectionPool(host='localhost', port=18081): Max retries exceeded with url: /face/register (Caused by NewConnectionError('<urllib3.connection.HTTPConnection object at 0x108fe3650>: Failed to establish a new connection: [Errno 61] Connection refused'))\n"
     ]
    }
   ],
   "source": [
    "import requests\n",
    "\n",
    "def register_face(name, image_path):\n",
    "    try:\n",
    "        with open(image_path, 'rb') as img:\n",
    "            response = requests.post(\n",
    "                \"http://localhost:18081/face/register\",\n",
    "                files={\"image\": img},\n",
    "                data={\"name\": name}\n",
    "            )\n",
    "            print(response.json())\n",
    "    except requests.exceptions.ConnectionError as e:\n",
    "        print(f\"Could not connect to the server: {e}\")\n",
    "\n",
    "register_face(\"Amitabh\", \"Amitabh.jpg\")\n",
    "register_face(\"Utkarsh\", \"Utkarsh.jpg\")\n"
   ]
  },
  {
   "cell_type": "code",
   "execution_count": 6,
   "id": "67afb35c",
   "metadata": {},
   "outputs": [
    {
     "name": "stdout",
     "output_type": "stream",
     "text": [
      "Could not connect to the face detection server: HTTPConnectionPool(host='localhost', port=18081): Max retries exceeded with url: /face/detect (Caused by NewConnectionError('<urllib3.connection.HTTPConnection object at 0x109036360>: Failed to establish a new connection: [Errno 61] Connection refused'))\n"
     ]
    }
   ],
   "source": [
    "import cv2\n",
    "import requests\n",
    "\n",
    "video_path = \"cctv_video.mp4\"\n",
    "cap = cv2.VideoCapture(video_path)\n",
    "frame_num = 0\n",
    "fps = int(cap.get(cv2.CAP_PROP_FPS))\n",
    "\n",
    "while cap.isOpened():\n",
    "    ret, frame = cap.read()\n",
    "    if not ret:\n",
    "        break\n",
    "\n",
    "    if frame_num % fps == 0:  # one frame per second\n",
    "        _, img_jpg = cv2.imencode('.jpg', frame)\n",
    "        files = {'image': img_jpg.tobytes()}\n",
    "\n",
    "        # Detect faces\n",
    "        try:\n",
    "            r = requests.post(\"http://localhost:18081/face/detect\", files=files)\n",
    "            detections = r.json().get('faces', [])\n",
    "        except requests.exceptions.ConnectionError as e:\n",
    "            print(f\"Could not connect to the face detection server: {e}\")\n",
    "            break\n",
    "\n",
    "        for face in detections:\n",
    "            x1, y1, x2, y2 = map(int, face['bbox'])\n",
    "            crop = frame[y1:y2, x1:x2]\n",
    "            _, crop_jpg = cv2.imencode('.jpg', crop)\n",
    "            try:\n",
    "                match_r = requests.post(\"http://localhost:18081/face/search\", files={\"image\": crop_jpg.tobytes()})\n",
    "                match = match_r.json().get('results', [])[0]  # best match\n",
    "                print(f\"Frame {frame_num}: {match['name']} - Score: {match['score']:.2f}\")\n",
    "            except requests.exceptions.ConnectionError as e:\n",
    "                print(f\"Could not connect to the face search server: {e}\")\n",
    "                break\n",
    "\n",
    "    frame_num += 1\n",
    "\n",
    "cap.release()"
   ]
  }
 ],
 "metadata": {
  "kernelspec": {
   "display_name": "env",
   "language": "python",
   "name": "python3"
  },
  "language_info": {
   "codemirror_mode": {
    "name": "ipython",
    "version": 3
   },
   "file_extension": ".py",
   "mimetype": "text/x-python",
   "name": "python",
   "nbconvert_exporter": "python",
   "pygments_lexer": "ipython3",
   "version": "3.13.3"
  }
 },
 "nbformat": 4,
 "nbformat_minor": 5
}
